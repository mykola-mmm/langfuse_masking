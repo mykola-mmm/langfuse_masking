{
 "cells": [
  {
   "cell_type": "markdown",
   "metadata": {},
   "source": [
    "# Langfuse Masking Issue MVP"
   ]
  },
  {
   "cell_type": "code",
   "execution_count": 1,
   "metadata": {},
   "outputs": [],
   "source": [
    "import re\n",
    "import os\n",
    "from typing import Any\n",
    "\n",
    "from langchain_core.prompts import ChatPromptTemplate\n",
    "from langchain_core.runnables import RunnableConfig\n",
    "from langchain_openai import ChatOpenAI\n",
    "from langfuse import Langfuse\n",
    "from langfuse.langchain import CallbackHandler"
   ]
  },
  {
   "cell_type": "code",
   "execution_count": null,
   "metadata": {},
   "outputs": [],
   "source": [
    "os.environ[\"OPENAI_API_KEY\"] = \"\"\n",
    "os.environ[\"LANGFUSE_PUBLIC_KEY\"] = \"\"\n",
    "os.environ[\"LANGFUSE_SECRET_KEY\"] = \"\"\n",
    "os.environ[\"LANGFUSE_HOST\"] = \"\""
   ]
  },
  {
   "cell_type": "code",
   "execution_count": null,
   "metadata": {},
   "outputs": [],
   "source": [
    "def current_masking_function(data: Any, **kwargs) -> Any:\n",
    "    if isinstance(data, list):\n",
    "        data = [current_masking_function(item, **kwargs) for item in data]\n",
    "    if isinstance(data, dict):\n",
    "        for key, value in data.items():\n",
    "            if isinstance(key, str):\n",
    "                data[key] = \"*****\" if key.startswith(\"secret\") else data[key]\n",
    "            if isinstance(value, str):\n",
    "                data[key] = re.sub(\n",
    "                    r\"(<secret_start>)(.*?)(<secret_end>)\", \n",
    "                    r\"\\1*****\\3\", \n",
    "                    data[key], \n",
    "                    flags=re.DOTALL\n",
    "                )\n",
    "    return data\n",
    "\n",
    "\n",
    "def create_tracing_config(tags: str | list[str]) -> RunnableConfig:\n",
    "    if isinstance(tags, str):\n",
    "        tags = [tags]\n",
    "\n",
    "    return RunnableConfig(\n",
    "        callbacks=[CallbackHandler()],\n",
    "        metadata={\n",
    "            \"langfuse_tags\": tags,\n",
    "        },\n",
    "    )\n",
    "\n",
    "\n",
    "langfuse_client = Langfuse(\n",
    "    public_key=os.getenv(\"LANGFUSE_PUBLIC_KEY\"),\n",
    "    secret_key=os.getenv(\"LANGFUSE_SECRET_KEY\"),\n",
    "    host=os.getenv(\"LANGFUSE_HOST\"),\n",
    "    mask=current_masking_function,\n",
    ")"
   ]
  },
  {
   "cell_type": "code",
   "execution_count": null,
   "metadata": {},
   "outputs": [
    {
     "name": "stdout",
     "output_type": "stream",
     "text": [
      "Response: The value of the secret is:\n",
      "\n",
      "FIFA12345\n"
     ]
    }
   ],
   "source": [
    "prompt_template = \"\"\"\n",
    "What is the value of the secret?\n",
    "<secret_start>\n",
    "{secret}\n",
    "<secret_end>\n",
    "\"\"\"\n",
    "\n",
    "\n",
    "prompt = ChatPromptTemplate.from_template(prompt_template)\n",
    "model = ChatOpenAI(model=\"gpt-4.1\", temperature=0)\n",
    "chain = prompt | model\n",
    "\n",
    "\n",
    "secret = \"FIFA12345\"\n",
    "response = chain.invoke({\"secret\": secret}, config=create_tracing_config(\"test_masking\"))\n",
    "\n",
    "\n",
    "print(f\"Response: {response.content}\")"
   ]
  }
 ],
 "metadata": {
  "kernelspec": {
   "display_name": "langfuse_masking",
   "language": "python",
   "name": "python3"
  },
  "language_info": {
   "codemirror_mode": {
    "name": "ipython",
    "version": 3
   },
   "file_extension": ".py",
   "mimetype": "text/x-python",
   "name": "python",
   "nbconvert_exporter": "python",
   "pygments_lexer": "ipython3",
   "version": "3.12.0"
  }
 },
 "nbformat": 4,
 "nbformat_minor": 4
}
